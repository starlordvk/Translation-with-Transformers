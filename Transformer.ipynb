{
 "cells": [
  {
   "cell_type": "code",
   "execution_count": 5,
   "metadata": {},
   "outputs": [],
   "source": [
    "import os\n",
    "import pandas as pd\n",
    "from os.path import exists\n",
    "import torch\n",
    "import torch.nn as nn\n",
    "import copy"
   ]
  },
  {
   "cell_type": "code",
   "execution_count": 6,
   "metadata": {},
   "outputs": [],
   "source": [
    "def CloneModule(module, n):\n",
    "    '''Create n identical copies of a module'''\n",
    "    \n",
    "    return nn.ModuleList([copy.deepcopy(module) for _ in range(n)])"
   ]
  },
  {
   "cell_type": "code",
   "execution_count": 7,
   "metadata": {},
   "outputs": [],
   "source": [
    "# TODO: Change the param from layer size to something meaningful.\n",
    "class LayerNorm(nn.Module):\n",
    "    def __init__(self, layer_size, eps=1e-5):\n",
    "        super(LayerNorm, self).__init__()\n",
    "        \n",
    "        # Add these to the parameter list of the layer norm module\n",
    "        # and can be accessed using the 'parameters' iterator.\n",
    "        # Parameters have require_grad set by default.\n",
    "        self.gamma = nn.Parameter(torch.ones(layer_size))\n",
    "        self.beta = nn.Parameter(torch.zeros(layer_size))\n",
    "\n",
    "        self.eps = eps\n",
    "\n",
    "    def forward(self, X):\n",
    "        mean = X.mean(-1, keepdim=True)\n",
    "        std = X.std(-1, keepdim=True)\n",
    "        return self.gamma * (X - mean) / (std + self.eps) + self.beta"
   ]
  },
  {
   "cell_type": "code",
   "execution_count": 11,
   "metadata": {},
   "outputs": [],
   "source": [
    "class ResidualandNormalSublayer(nn.Module):\n",
    "    '''\n",
    "    A residual connection followed by a layer norm.\n",
    "    The output of each sub-layer is LayerNorm(x + Sublayer(x)) where Sublayer(x) is the function implemented by the sub-layer itself. \n",
    "    We apply dropout to the output of each sub-layer, before it is added to the sub-layer input and normalized.\n",
    "    For code simplicity the norm is first as opposed to last.\n",
    "    '''\n",
    "\n",
    "    def __init__(self, size, dropout):\n",
    "        super(ResidualandNormalSublayer, self).__init__()\n",
    "        self.norm = LayerNorm(size)\n",
    "        self.dropout = nn.Dropout(dropout)\n",
    "\n",
    "    def forward(self, X, sublayer):\n",
    "        '''Apply residual connection to any sublayer with the same size'''\n",
    "        return X + self.dropout(sublayer(self.norm(X)))"
   ]
  },
  {
   "cell_type": "code",
   "execution_count": 13,
   "metadata": {},
   "outputs": [],
   "source": [
    "class EncoderLayer(nn.Module):\n",
    "    '''\n",
    "    Each layer has two sub-layers. The first is a multi-head self-attention mechanism,\n",
    "    and the second is a simple, position-wise fully connected feed-forward network.\n",
    "\n",
    "    Encoder is made up of self-attn and feed forward.\n",
    "    '''\n",
    "\n",
    "    def __init__(self, size, self_attn, feed_forward, dropout):\n",
    "        super(EncoderLayer, self).__init__()\n",
    "        self.self_attn = self_attn\n",
    "        self.feed_forward = self.feed_forward\n",
    "        # These are the add and norm layers after multihead attention/feed forward blocks.\n",
    "        self.sublayer = CloneModule(ResidualandNormalSublayer(size, dropout), 2)\n",
    "        self.size = size\n",
    "    \n",
    "    def forward(self, X, mask):\n",
    "        X = self.sublayer[0](X, self.self_attn(X, X, X, mask))\n",
    "        return self.sublayer[1](X, self.feed_forward)\n"
   ]
  },
  {
   "cell_type": "code",
   "execution_count": 14,
   "metadata": {},
   "outputs": [],
   "source": [
    "class Encoder(nn.Module):\n",
    "    '''Encoder which a stack of n EncoderLayers'''\n",
    "\n",
    "    def __init__(self, layer, n):\n",
    "        super(Encoder, self).__init__()\n",
    "        self.layers = CloneModule(layer, n)\n",
    "        self.norm = LayerNorm(layer.size)\n",
    "\n",
    "    def forward(self, X, mask):\n",
    "        '''Pass the input (and mask) through each layer in turn'''\n",
    "        for layer in self.layers:\n",
    "            X = layer(X, mask)\n",
    "        return self.norm(X)"
   ]
  },
  {
   "cell_type": "code",
   "execution_count": 15,
   "metadata": {},
   "outputs": [],
   "source": [
    "class DecoderLayer(nn.Module):\n",
    "    '''\n",
    "    The decoder inserts a third sub-layer, which performs multi-head attention over the output of the encoder stack. \n",
    "    Similar to the encoder, we employ residual connections around each of the sub-layers, followed by layer normalization.\n",
    "    '''\n",
    "    \n",
    "    def __init__(self, size, self_attn, src_attn, feed_forward, dropout):\n",
    "        super(DecoderLayer, self).__init__()\n",
    "        self.size = size\n",
    "        self.self_attn = self_attn\n",
    "        self.src_attn = src_attn\n",
    "        self.feed_forward = feed_forward\n",
    "        self.sublayer = CloneModule(ResidualandNormalSublayer(size, dropout),3)\n",
    "\n",
    "    def forward(self, X, memory, src_mask, tgt_mask):\n",
    "        m = memory\n",
    "        X = self.sublayer[0](X, self.self_attn(X, X, X, tgt_mask))\n",
    "        X = self.sublayer[1](X, self.src_attn(X, m, m, src_mask))\n",
    "        return self.sublayer[2](X, self.feed_forward)"
   ]
  },
  {
   "cell_type": "code",
   "execution_count": null,
   "metadata": {},
   "outputs": [],
   "source": [
    "class Decoder(nn.Module):\n",
    "    '''Decoder which a stack of n DecoderLayers'''\n",
    "\n",
    "    def __init__(self, layer, n):\n",
    "        super(Decoder, self).__init__()\n",
    "        self.layers = CloneModule(layer, n)\n",
    "        self.norm = LayerNorm(layer.size)\n",
    "    \n",
    "    def forward(self, x, memory, src_mask, tgt_mask):\n",
    "        for layer in self.layers:\n",
    "            x = layer(x, memory, src_mask, tgt_mask)\n",
    "        return self.norm(x)"
   ]
  }
 ],
 "metadata": {
  "kernelspec": {
   "display_name": "Python 3.8.10 64-bit",
   "language": "python",
   "name": "python3"
  },
  "language_info": {
   "codemirror_mode": {
    "name": "ipython",
    "version": 3
   },
   "file_extension": ".py",
   "mimetype": "text/x-python",
   "name": "python",
   "nbconvert_exporter": "python",
   "pygments_lexer": "ipython3",
   "version": "3.8.10"
  },
  "orig_nbformat": 4,
  "vscode": {
   "interpreter": {
    "hash": "916dbcbb3f70747c44a77c7bcd40155683ae19c65e1c03b4aa3499c5328201f1"
   }
  }
 },
 "nbformat": 4,
 "nbformat_minor": 2
}
